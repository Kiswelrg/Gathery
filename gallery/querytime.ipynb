{
 "cells": [
  {
   "cell_type": "code",
   "execution_count": 1,
   "metadata": {},
   "outputs": [],
   "source": [
    "from django.http.response import Http404, HttpResponseRedirect\n",
    "from django.urls import reverse\n",
    "from django.shortcuts import render, get_list_or_404, get_object_or_404\n",
    "from django.views.decorators.clickjacking import xframe_options_sameorigin\n",
    "from django.http import HttpResponse\n",
    "\n",
    "import os, sys\n",
    "os.chdir('d:\\Projects\\website\\gathery')\n",
    "sys.path.insert(0, os.getenv('PWD'))\n",
    "os.environ.setdefault(\"DJANGO_SETTINGS_MODULE\", \"local_settings.py\")\n",
    "import django\n",
    "os.environ[\"DJANGO_ALLOW_ASYNC_UNSAFE\"] = \"true\"\n",
    "django.setup()\n",
    "from user.models import User\n",
    "from gallery.models import Gallery,Warehouse,Artist,Art,GU_Relation,WA_Collection,GW_Attach,Test_relation2,Test_relation1\n",
    "from django.utils import timezone\n",
    "import datetime\n",
    "import json,random,string\n",
    "\n",
    "\n"
   ]
  },
  {
   "cell_type": "code",
   "execution_count": 2,
   "metadata": {},
   "outputs": [],
   "source": [
    "w_ids = list(Warehouse.objects.all().values_list('id',flat=True))\n",
    "g_ids = list(Gallery.objects.all().values_list('id',flat=True))\n",
    "u_ids = list(User.objects.all().values_list('id',flat=True))"
   ]
  },
  {
   "cell_type": "code",
   "execution_count": 3,
   "metadata": {},
   "outputs": [],
   "source": [
    "#get random user\n",
    "def pickUserId(a,b):\n",
    "    min_u = a\n",
    "    max_u = b\n",
    "    u_n = random.randint(min_u, max_u)\n",
    "    rr = random.sample(u_ids, u_n)\n",
    "    return User.objects.filter(id__in = rr)\n",
    "\n",
    "def pickGalleryId(a,b):\n",
    "    min_u = a\n",
    "    max_u = b\n",
    "    u_n = random.randint(min_u, max_u)\n",
    "    rr = random.sample(g_ids, u_n)\n",
    "    return Gallery.objects.filter(id__in = rr)\n",
    "\n",
    "def pickWarehouseId(a,b):\n",
    "    min_u = a\n",
    "    max_u = b\n",
    "    u_n = random.randint(min_u, max_u)\n",
    "    rr = random.sample(w_ids, u_n)\n",
    "    return Warehouse.objects.filter(id__in = rr)\n"
   ]
  },
  {
   "cell_type": "markdown",
   "metadata": {},
   "source": [
    "\n",
    "\n",
    "R1 + R2 / W /   \n",
    "13.5 s ± 113 ms per loop (mean ± std. dev. of 7 runs, 1 loop each)  \n",
    "14.3 s ± 816 ms per loop (mean ± std. dev. of 7 runs, 1 loop each)  \n",
    "\n"
   ]
  },
  {
   "cell_type": "code",
   "execution_count": 4,
   "metadata": {},
   "outputs": [],
   "source": [
    "users = pickUserId(100,200)\n",
    "gs = pickGalleryId(70,80)\n",
    "ws = pickWarehouseId(700,750)"
   ]
  },
  {
   "cell_type": "code",
   "execution_count": 5,
   "metadata": {},
   "outputs": [],
   "source": [
    "users = pickUserId(10,11)"
   ]
  },
  {
   "cell_type": "code",
   "execution_count": 32,
   "metadata": {},
   "outputs": [
    {
     "data": {
      "text/plain": [
       "7050"
      ]
     },
     "execution_count": 32,
     "metadata": {},
     "output_type": "execute_result"
    }
   ],
   "source": [
    "len(users)*len(ws)"
   ]
  },
  {
   "cell_type": "code",
   "execution_count": 6,
   "metadata": {},
   "outputs": [],
   "source": [
    "# 0.02024904214559387\n",
    "# R2 → R1 / W / \n",
    "#"
   ]
  },
  {
   "cell_type": "code",
   "execution_count": 29,
   "metadata": {},
   "outputs": [
    {
     "name": "stdout",
     "output_type": "stream",
     "text": [
      "0.019148936170212766\n"
     ]
    }
   ],
   "source": [
    "# %%timeit -n 1\n",
    "s = len(users)*len(ws)\n",
    "v = 0\n",
    "for u in users:\n",
    "    for w in ws:\n",
    "        wg = w.gallery\n",
    "        if Test_relation2.objects.filter(staff_member = u, warehouse = w).exists():\n",
    "            v = v+1\n",
    "        elif Test_relation1.objects.filter(staff_member = u, gallery = wg).exists():\n",
    "            v = v+1\n",
    "print(v/s)\n"
   ]
  },
  {
   "cell_type": "code",
   "execution_count": 8,
   "metadata": {},
   "outputs": [],
   "source": [
    "#\n",
    "# R1 → R2 / W / \n",
    "#"
   ]
  },
  {
   "cell_type": "code",
   "execution_count": 30,
   "metadata": {},
   "outputs": [
    {
     "name": "stdout",
     "output_type": "stream",
     "text": [
      "0.019148936170212766\n"
     ]
    }
   ],
   "source": [
    "# %%timeit -n 1\n",
    "s = len(users)*len(ws)\n",
    "v = 0\n",
    "for u in users:\n",
    "    for w in ws:\n",
    "        wg = w.gallery\n",
    "        if Test_relation1.objects.filter(staff_member = u, gallery = wg).exists():\n",
    "            v = v+1\n",
    "        elif Test_relation2.objects.filter(staff_member = u, warehouse = w).exists():\n",
    "            v = v+1\n",
    "print(v/s)\n"
   ]
  },
  {
   "cell_type": "code",
   "execution_count": 10,
   "metadata": {},
   "outputs": [],
   "source": [
    "#\n",
    "# GU / W /\n",
    "# \n"
   ]
  },
  {
   "cell_type": "code",
   "execution_count": 31,
   "metadata": {},
   "outputs": [
    {
     "name": "stdout",
     "output_type": "stream",
     "text": [
      "0.019148936170212766\n"
     ]
    }
   ],
   "source": [
    "#%%timeit -n 1\n",
    "from django.db.models import Q\n",
    "s = len(users)*len(ws)\n",
    "v = 0\n",
    "for u in users:\n",
    "    for w in ws:\n",
    "        wg = w.gallery\n",
    "        if GU_Relation.objects.filter( Q(gallery = wg, warehouse__isnull = True) | Q(warehouse = w),\n",
    "            staff_member = u\n",
    "        ).exists():\n",
    "            v = v+1\n",
    "print(v/s)\n"
   ]
  },
  {
   "cell_type": "code",
   "execution_count": 12,
   "metadata": {},
   "outputs": [],
   "source": [
    "# 0.02147239263803681\n",
    "# R1 / G /  \n",
    "# 8.25 s ± 389 ms per loop (mean ± std. dev. of 7 runs, 10 loops each)\n",
    "# "
   ]
  },
  {
   "cell_type": "code",
   "execution_count": 33,
   "metadata": {},
   "outputs": [
    {
     "name": "stdout",
     "output_type": "stream",
     "text": [
      "0.02875\n",
      "0.02875\n",
      "0.02875\n",
      "0.02875\n",
      "0.02875\n",
      "0.02875\n",
      "0.02875\n",
      "824 ms ± 24.7 ms per loop (mean ± std. dev. of 7 runs, 1 loop each)\n"
     ]
    }
   ],
   "source": [
    "%%timeit -n 1\n",
    "s = len(users)*len(gs)\n",
    "v = 0\n",
    "for u in users:\n",
    "    for g in gs:\n",
    "        if Test_relation1.objects.filter(staff_member = u, gallery = g).exists():\n",
    "            v = v+1\n",
    "        \n",
    "print(v/s)\n"
   ]
  },
  {
   "cell_type": "code",
   "execution_count": 14,
   "metadata": {},
   "outputs": [],
   "source": [
    "# 0.02147239263803681\n",
    "# GU / G / \n",
    "# 10.3 s ± 493 ms per loop (mean ± std. dev. of 7 runs, 10 loops each)"
   ]
  },
  {
   "cell_type": "code",
   "execution_count": 34,
   "metadata": {},
   "outputs": [
    {
     "name": "stdout",
     "output_type": "stream",
     "text": [
      "0.02875\n",
      "0.02875\n",
      "0.02875\n",
      "0.02875\n",
      "0.02875\n",
      "0.02875\n",
      "0.02875\n",
      "941 ms ± 12.7 ms per loop (mean ± std. dev. of 7 runs, 1 loop each)\n"
     ]
    }
   ],
   "source": [
    "%%timeit -n 1\n",
    "s = len(users)*len(gs)\n",
    "v = 0\n",
    "for u in users:\n",
    "    for g in gs:\n",
    "        if GU_Relation.objects.filter(staff_member = u, gallery = g, warehouse__isnull = True).exists():\n",
    "            v = v+1\n",
    "\n",
    "print(v/s)"
   ]
  }
 ],
 "metadata": {
  "interpreter": {
   "hash": "96dbfdf749346350bf5af8d2f68ed1057e70fe06576a531a81188d63e85c273f"
  },
  "kernelspec": {
   "display_name": "MyGathery",
   "language": "python",
   "name": "undefined.--ext#django_extensions.management.notebook_extension"
  },
  "language_info": {
   "codemirror_mode": {
    "name": "ipython",
    "version": 3
   },
   "file_extension": ".py",
   "mimetype": "text/x-python",
   "name": "python",
   "nbconvert_exporter": "python",
   "pygments_lexer": "ipython3",
   "version": "3.8.12"
  }
 },
 "nbformat": 4,
 "nbformat_minor": 2
}
