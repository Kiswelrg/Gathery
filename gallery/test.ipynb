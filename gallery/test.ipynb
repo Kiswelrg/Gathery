{
 "cells": [
  {
   "cell_type": "code",
   "execution_count": 1,
   "metadata": {},
   "outputs": [],
   "source": [
    "from django.http.response import Http404, HttpResponseRedirect\n",
    "from django.urls import reverse\n",
    "from django.shortcuts import render, get_list_or_404, get_object_or_404\n",
    "from django.views.decorators.clickjacking import xframe_options_sameorigin\n",
    "from django.http import HttpResponse, QueryDict\n",
    "\n",
    "import os, sys\n",
    "os.chdir('/Users/wxy/OneDrive/projects/website/gathery')\n",
    "sys.path.insert(0, os.getenv('PWD'))\n",
    "os.environ.setdefault(\"DJANGO_SETTINGS_MODULE\", \"local_settings.py\")\n",
    "import django\n",
    "os.environ[\"DJANGO_ALLOW_ASYNC_UNSAFE\"] = \"true\"\n",
    "django.setup()\n",
    "\n",
    "from user.models import User\n",
    "from utility.models import City\n",
    "from gallery.models import Gallery,Warehouse,Artist,Art,GU_Relation_old,GU_Relation,WU_Relation\n",
    "from django.utils import timezone\n",
    "from datetime import datetime,timedelta\n",
    "import json,random,string\n",
    "from itertools import islice\n",
    "try:\n",
    "    import zoneinfo\n",
    "except ImportError:\n",
    "    from backports import zoneinfo\n",
    "from django.utils.dateparse import parse_datetime\n",
    "from django.core.exceptions import ObjectDoesNotExist\n",
    "from django.core.exceptions import ValidationError\n",
    "\n"
   ]
  },
  {
   "cell_type": "code",
   "execution_count": 2,
   "metadata": {},
   "outputs": [
    {
     "name": "stdout",
     "output_type": "stream",
     "text": [
      "<class 'django.db.models.fields.files.ImageFieldFile'>\n"
     ]
    }
   ],
   "source": [
    "a = Art.objects.filter(id__contains='aetG7NGd').first()\n",
    "if a.picture == '':\n",
    "    print('no file')\n",
    "else:\n",
    "    print(type(a.picture))"
   ]
  },
  {
   "cell_type": "code",
   "execution_count": 3,
   "metadata": {},
   "outputs": [
    {
     "ename": "NameError",
     "evalue": "name 'art' is not defined",
     "output_type": "error",
     "traceback": [
      "\u001b[0;31m---------------------------------------------------------------------------\u001b[0m",
      "\u001b[0;31mNameError\u001b[0m                                 Traceback (most recent call last)",
      "\u001b[0;32m/var/folders/_x/yw5kb5f10839md_6yf3s62y40000gn/T/ipykernel_36376/1368217142.py\u001b[0m in \u001b[0;36m<module>\u001b[0;34m\u001b[0m\n\u001b[0;32m----> 1\u001b[0;31m \u001b[0mart\u001b[0m\u001b[0;34m.\u001b[0m\u001b[0mpicture\u001b[0m\u001b[0;34m\u001b[0m\u001b[0;34m\u001b[0m\u001b[0m\n\u001b[0m",
      "\u001b[0;31mNameError\u001b[0m: name 'art' is not defined"
     ]
    }
   ],
   "source": [
    "art.picture"
   ]
  },
  {
   "cell_type": "code",
   "execution_count": 4,
   "metadata": {},
   "outputs": [
    {
     "data": {
      "text/plain": [
       "str"
      ]
     },
     "execution_count": 4,
     "metadata": {},
     "output_type": "execute_result"
    }
   ],
   "source": [
    "a = '1'\n",
    "type('2_{0}'.format(a))"
   ]
  },
  {
   "cell_type": "code",
   "execution_count": 5,
   "metadata": {},
   "outputs": [
    {
     "name": "stdout",
     "output_type": "stream",
     "text": [
      "<class 'backports.zoneinfo.ZoneInfo'>\n"
     ]
    },
    {
     "ename": "NameError",
     "evalue": "name 'pytz' is not defined",
     "output_type": "error",
     "traceback": [
      "\u001b[0;31m---------------------------------------------------------------------------\u001b[0m",
      "\u001b[0;31mNameError\u001b[0m                                 Traceback (most recent call last)",
      "\u001b[0;32m/var/folders/_x/yw5kb5f10839md_6yf3s62y40000gn/T/ipykernel_36376/4034844767.py\u001b[0m in \u001b[0;36m<module>\u001b[0;34m\u001b[0m\n\u001b[1;32m      1\u001b[0m \u001b[0;32mfrom\u001b[0m \u001b[0mpprint\u001b[0m \u001b[0;32mimport\u001b[0m \u001b[0mpprint\u001b[0m\u001b[0;34m\u001b[0m\u001b[0;34m\u001b[0m\u001b[0m\n\u001b[1;32m      2\u001b[0m \u001b[0mprint\u001b[0m\u001b[0;34m(\u001b[0m\u001b[0mtype\u001b[0m\u001b[0;34m(\u001b[0m\u001b[0mtimezone\u001b[0m\u001b[0;34m.\u001b[0m\u001b[0mget_current_timezone\u001b[0m\u001b[0;34m(\u001b[0m\u001b[0;34m)\u001b[0m\u001b[0;34m)\u001b[0m\u001b[0;34m)\u001b[0m\u001b[0;34m\u001b[0m\u001b[0;34m\u001b[0m\u001b[0m\n\u001b[0;32m----> 3\u001b[0;31m \u001b[0mprint\u001b[0m\u001b[0;34m(\u001b[0m\u001b[0mtype\u001b[0m\u001b[0;34m(\u001b[0m\u001b[0mpytz\u001b[0m\u001b[0;34m.\u001b[0m\u001b[0mtimezone\u001b[0m\u001b[0;34m(\u001b[0m\u001b[0mtimezone\u001b[0m\u001b[0;34m.\u001b[0m\u001b[0mget_current_timezone_name\u001b[0m\u001b[0;34m(\u001b[0m\u001b[0;34m)\u001b[0m\u001b[0;34m)\u001b[0m\u001b[0;34m)\u001b[0m\u001b[0;34m)\u001b[0m\u001b[0;34m\u001b[0m\u001b[0;34m\u001b[0m\u001b[0m\n\u001b[0m\u001b[1;32m      4\u001b[0m \u001b[0;32mfor\u001b[0m \u001b[0mkey\u001b[0m\u001b[0;34m,\u001b[0m\u001b[0mvalue\u001b[0m \u001b[0;32min\u001b[0m \u001b[0mtimezone\u001b[0m\u001b[0;34m.\u001b[0m\u001b[0mget_current_timezone\u001b[0m\u001b[0;34m(\u001b[0m\u001b[0;34m)\u001b[0m\u001b[0;34m.\u001b[0m\u001b[0m_tzinfos\u001b[0m\u001b[0;34m.\u001b[0m\u001b[0mitems\u001b[0m\u001b[0;34m(\u001b[0m\u001b[0;34m)\u001b[0m\u001b[0;34m:\u001b[0m\u001b[0;34m\u001b[0m\u001b[0;34m\u001b[0m\u001b[0m\n\u001b[1;32m      5\u001b[0m     \u001b[0mprint\u001b[0m\u001b[0;34m(\u001b[0m\u001b[0mkey\u001b[0m\u001b[0;34m)\u001b[0m\u001b[0;34m\u001b[0m\u001b[0;34m\u001b[0m\u001b[0m\n",
      "\u001b[0;31mNameError\u001b[0m: name 'pytz' is not defined"
     ]
    }
   ],
   "source": [
    "from pprint import pprint\n",
    "print(type(timezone.get_current_timezone()))\n",
    "print(type(pytz.timezone(timezone.get_current_timezone_name())))\n",
    "for key,value in timezone.get_current_timezone()._tzinfos.items():\n",
    "    print(key)\n",
    "    print(type(key))\n",
    "# pprint(vars(timezone.get_current_timezone()))"
   ]
  },
  {
   "cell_type": "code",
   "execution_count": 6,
   "metadata": {},
   "outputs": [
    {
     "ename": "ModuleNotFoundError",
     "evalue": "No module named 'pytz'",
     "output_type": "error",
     "traceback": [
      "\u001b[0;31m---------------------------------------------------------------------------\u001b[0m",
      "\u001b[0;31mModuleNotFoundError\u001b[0m                       Traceback (most recent call last)",
      "\u001b[0;32m/var/folders/_x/yw5kb5f10839md_6yf3s62y40000gn/T/ipykernel_36376/1700398004.py\u001b[0m in \u001b[0;36m<module>\u001b[0;34m\u001b[0m\n\u001b[1;32m      1\u001b[0m \u001b[0;32mfrom\u001b[0m \u001b[0mpprint\u001b[0m \u001b[0;32mimport\u001b[0m \u001b[0mpprint\u001b[0m\u001b[0;34m\u001b[0m\u001b[0;34m\u001b[0m\u001b[0m\n\u001b[0;32m----> 2\u001b[0;31m \u001b[0;32mimport\u001b[0m \u001b[0mpytz\u001b[0m\u001b[0;34m\u001b[0m\u001b[0;34m\u001b[0m\u001b[0m\n\u001b[0m\u001b[1;32m      3\u001b[0m \u001b[0mg\u001b[0m \u001b[0;34m=\u001b[0m \u001b[0mGU_Relation\u001b[0m\u001b[0;34m.\u001b[0m\u001b[0mobjects\u001b[0m\u001b[0;34m.\u001b[0m\u001b[0mget\u001b[0m\u001b[0;34m(\u001b[0m\u001b[0mstaff_member__urlCode\u001b[0m \u001b[0;34m=\u001b[0m \u001b[0;36m1032307067\u001b[0m\u001b[0;34m,\u001b[0m \u001b[0mgallery__galleryId\u001b[0m \u001b[0;34m=\u001b[0m \u001b[0;34m'9SDB2VDJ5P'\u001b[0m\u001b[0;34m)\u001b[0m\u001b[0;34m\u001b[0m\u001b[0;34m\u001b[0m\u001b[0m\n\u001b[1;32m      4\u001b[0m \u001b[0;31m#pprint(vars(g))\u001b[0m\u001b[0;34m\u001b[0m\u001b[0;34m\u001b[0m\u001b[0;34m\u001b[0m\u001b[0m\n\u001b[1;32m      5\u001b[0m \u001b[0mg\u001b[0m\u001b[0;34m.\u001b[0m\u001b[0mdate_join\u001b[0m\u001b[0;34m.\u001b[0m\u001b[0mastimezone\u001b[0m\u001b[0;34m(\u001b[0m\u001b[0mtimezone\u001b[0m\u001b[0;34m.\u001b[0m\u001b[0mget_current_timezone\u001b[0m\u001b[0;34m(\u001b[0m\u001b[0;34m)\u001b[0m\u001b[0;34m)\u001b[0m\u001b[0;34m\u001b[0m\u001b[0;34m\u001b[0m\u001b[0m\n",
      "\u001b[0;31mModuleNotFoundError\u001b[0m: No module named 'pytz'"
     ]
    }
   ],
   "source": [
    "from pprint import pprint\n",
    "import pytz\n",
    "g = GU_Relation.objects.get(staff_member__urlCode = 1032307067, gallery__galleryId = '9SDB2VDJ5P')\n",
    "#pprint(vars(g))\n",
    "g.date_join.astimezone(timezone.get_current_timezone())"
   ]
  },
  {
   "cell_type": "code",
   "execution_count": 7,
   "metadata": {},
   "outputs": [
    {
     "ename": "DoesNotExist",
     "evalue": "GU_Relation matching query does not exist.",
     "output_type": "error",
     "traceback": [
      "\u001b[0;31m---------------------------------------------------------------------------\u001b[0m",
      "\u001b[0;31mDoesNotExist\u001b[0m                              Traceback (most recent call last)",
      "\u001b[0;32m/var/folders/_x/yw5kb5f10839md_6yf3s62y40000gn/T/ipykernel_36376/4014259094.py\u001b[0m in \u001b[0;36m<module>\u001b[0;34m\u001b[0m\n\u001b[1;32m      1\u001b[0m \u001b[0;32mfrom\u001b[0m \u001b[0mpprint\u001b[0m \u001b[0;32mimport\u001b[0m \u001b[0mpprint\u001b[0m\u001b[0;34m\u001b[0m\u001b[0;34m\u001b[0m\u001b[0m\n\u001b[0;32m----> 2\u001b[0;31m \u001b[0mg\u001b[0m \u001b[0;34m=\u001b[0m \u001b[0mGU_Relation\u001b[0m\u001b[0;34m.\u001b[0m\u001b[0mobjects\u001b[0m\u001b[0;34m.\u001b[0m\u001b[0mget\u001b[0m\u001b[0;34m(\u001b[0m\u001b[0mstaff_member__urlCode\u001b[0m \u001b[0;34m=\u001b[0m \u001b[0;36m1033071098\u001b[0m\u001b[0;34m,\u001b[0m \u001b[0mgallery__galleryId\u001b[0m \u001b[0;34m=\u001b[0m \u001b[0;34m'9SDB2VDJ5P'\u001b[0m\u001b[0;34m)\u001b[0m\u001b[0;34m\u001b[0m\u001b[0;34m\u001b[0m\u001b[0m\n\u001b[0m\u001b[1;32m      3\u001b[0m \u001b[0mpprint\u001b[0m\u001b[0;34m(\u001b[0m\u001b[0mvars\u001b[0m\u001b[0;34m(\u001b[0m\u001b[0mg\u001b[0m\u001b[0;34m)\u001b[0m\u001b[0;34m)\u001b[0m\u001b[0;34m\u001b[0m\u001b[0;34m\u001b[0m\u001b[0m\n",
      "\u001b[0;32m/opt/homebrew/Caskroom/miniconda/base/envs/web/lib/python3.8/site-packages/django/db/models/manager.py\u001b[0m in \u001b[0;36mmanager_method\u001b[0;34m(self, *args, **kwargs)\u001b[0m\n\u001b[1;32m     83\u001b[0m         \u001b[0;32mdef\u001b[0m \u001b[0mcreate_method\u001b[0m\u001b[0;34m(\u001b[0m\u001b[0mname\u001b[0m\u001b[0;34m,\u001b[0m \u001b[0mmethod\u001b[0m\u001b[0;34m)\u001b[0m\u001b[0;34m:\u001b[0m\u001b[0;34m\u001b[0m\u001b[0;34m\u001b[0m\u001b[0m\n\u001b[1;32m     84\u001b[0m             \u001b[0;32mdef\u001b[0m \u001b[0mmanager_method\u001b[0m\u001b[0;34m(\u001b[0m\u001b[0mself\u001b[0m\u001b[0;34m,\u001b[0m \u001b[0;34m*\u001b[0m\u001b[0margs\u001b[0m\u001b[0;34m,\u001b[0m \u001b[0;34m**\u001b[0m\u001b[0mkwargs\u001b[0m\u001b[0;34m)\u001b[0m\u001b[0;34m:\u001b[0m\u001b[0;34m\u001b[0m\u001b[0;34m\u001b[0m\u001b[0m\n\u001b[0;32m---> 85\u001b[0;31m                 \u001b[0;32mreturn\u001b[0m \u001b[0mgetattr\u001b[0m\u001b[0;34m(\u001b[0m\u001b[0mself\u001b[0m\u001b[0;34m.\u001b[0m\u001b[0mget_queryset\u001b[0m\u001b[0;34m(\u001b[0m\u001b[0;34m)\u001b[0m\u001b[0;34m,\u001b[0m \u001b[0mname\u001b[0m\u001b[0;34m)\u001b[0m\u001b[0;34m(\u001b[0m\u001b[0;34m*\u001b[0m\u001b[0margs\u001b[0m\u001b[0;34m,\u001b[0m \u001b[0;34m**\u001b[0m\u001b[0mkwargs\u001b[0m\u001b[0;34m)\u001b[0m\u001b[0;34m\u001b[0m\u001b[0;34m\u001b[0m\u001b[0m\n\u001b[0m\u001b[1;32m     86\u001b[0m \u001b[0;34m\u001b[0m\u001b[0m\n\u001b[1;32m     87\u001b[0m             \u001b[0mmanager_method\u001b[0m\u001b[0;34m.\u001b[0m\u001b[0m__name__\u001b[0m \u001b[0;34m=\u001b[0m \u001b[0mmethod\u001b[0m\u001b[0;34m.\u001b[0m\u001b[0m__name__\u001b[0m\u001b[0;34m\u001b[0m\u001b[0;34m\u001b[0m\u001b[0m\n",
      "\u001b[0;32m/opt/homebrew/Caskroom/miniconda/base/envs/web/lib/python3.8/site-packages/django/db/models/query.py\u001b[0m in \u001b[0;36mget\u001b[0;34m(self, *args, **kwargs)\u001b[0m\n\u001b[1;32m    648\u001b[0m             \u001b[0;32mreturn\u001b[0m \u001b[0mclone\u001b[0m\u001b[0;34m.\u001b[0m\u001b[0m_result_cache\u001b[0m\u001b[0;34m[\u001b[0m\u001b[0;36m0\u001b[0m\u001b[0;34m]\u001b[0m\u001b[0;34m\u001b[0m\u001b[0;34m\u001b[0m\u001b[0m\n\u001b[1;32m    649\u001b[0m         \u001b[0;32mif\u001b[0m \u001b[0;32mnot\u001b[0m \u001b[0mnum\u001b[0m\u001b[0;34m:\u001b[0m\u001b[0;34m\u001b[0m\u001b[0;34m\u001b[0m\u001b[0m\n\u001b[0;32m--> 650\u001b[0;31m             raise self.model.DoesNotExist(\n\u001b[0m\u001b[1;32m    651\u001b[0m                 \u001b[0;34m\"%s matching query does not exist.\"\u001b[0m \u001b[0;34m%\u001b[0m \u001b[0mself\u001b[0m\u001b[0;34m.\u001b[0m\u001b[0mmodel\u001b[0m\u001b[0;34m.\u001b[0m\u001b[0m_meta\u001b[0m\u001b[0;34m.\u001b[0m\u001b[0mobject_name\u001b[0m\u001b[0;34m\u001b[0m\u001b[0;34m\u001b[0m\u001b[0m\n\u001b[1;32m    652\u001b[0m             )\n",
      "\u001b[0;31mDoesNotExist\u001b[0m: GU_Relation matching query does not exist."
     ]
    }
   ],
   "source": [
    "from pprint import pprint\n",
    "g = GU_Relation.objects.get(staff_member__urlCode = 1033071098, gallery__galleryId = '9SDB2VDJ5P')\n",
    "pprint(vars(g))\n"
   ]
  },
  {
   "cell_type": "code",
   "execution_count": null,
   "metadata": {},
   "outputs": [],
   "source": [
    "#000 [num,upper,lower]\n",
    "def randomId(N, opt):\n",
    "    head = random.choices( (opt&0b001 )*string.ascii_lowercase + (opt&0b010 )*string.ascii_uppercase + ( 0b100 )*string.digits, k=1)[0]\n",
    "    body = ''.join(random.choices( (opt&0b001 )*string.ascii_lowercase + (opt&0b010 )*string.ascii_uppercase + string.digits, k=N-1))\n",
    "    return head + body\n",
    "\n",
    "\n",
    "def getArtId():\n",
    "    a = randomId(8,0b011)\n",
    "    while Art.objects.filter(id = a).exists():\n",
    "        a = randomId(8,0b011)\n",
    "    return str(a)\n",
    "\n",
    "\n",
    "def getGalleryId():\n",
    "    a = randomId(10,0b010)\n",
    "    while Gallery.objects.filter(galleryId = a).exists():\n",
    "        a = randomId(8,0b011)\n",
    "    return str(a)\n",
    "\n",
    "\n",
    "def getXCode(name,base,r):\n",
    "    f = {\n",
    "        'art': (Art),\n",
    "        'artist': (Artist),\n",
    "        'gallery': (Gallery),\n",
    "        'warehouse': (Warehouse),\n",
    "    }[name]\n",
    "    #print(f)\n",
    "    bot = pow(10, r - 4)\n",
    "    head = pow(10, r - 3) \n",
    "    a = random.randint(bot, head-1) + base*head\n",
    "\n",
    "    while f.objects.filter(urlCode = a).exists():\n",
    "        a = random.randint(bot, head-1) + base*head\n",
    "    return int(a)\n",
    "\n",
    "def getArtistCode():\n",
    "    return getXCode('artist',355,7)\n",
    "\n",
    "def getArtCode():\n",
    "    return getXCode('art',201,10)\n",
    "\n",
    "def getGalleryCode():\n",
    "    return getXCode('gallery',627,7)\n",
    "\n",
    "def getWarehouseCode():\n",
    "    return getXCode('warehouse',628,8)\n",
    "\n",
    "\n",
    "#get random user\n",
    "def pickUserId():\n",
    "    min_u = 10\n",
    "    max_u = 15\n",
    "    u_n = random.randint(min_u, max_u)\n",
    "    maxx = list(User.objects.all().values_list('id',flat=True))\n",
    "    rr = random.sample(maxx, u_n)\n",
    "    return User.objects.filter(id__in = rr)\n",
    "\n",
    "\n",
    "def randomDates(n):# for an art\n",
    "    now = timezone.now()\n",
    "    now = now.replace(tzinfo=timezone.get_current_timezone())\n",
    "    a = random.sample(range(1,20),n)\n",
    "    a.sort(reverse=True)\n",
    "    return [(now - timedelta(days=f)) for f in a]\n",
    "\n",
    "\n",
    "def pickWarehouse(w_n):\n",
    "    w_l = list(Warehouse.objects.all())\n",
    "    rr = random.sample(w_l, w_n)\n",
    "    return rr\n",
    "\n"
   ]
  },
  {
   "cell_type": "code",
   "execution_count": null,
   "metadata": {},
   "outputs": [],
   "source": []
  },
  {
   "cell_type": "code",
   "execution_count": null,
   "metadata": {},
   "outputs": [],
   "source": [
    "arts = [\n",
    "    {'name': 'Frank', 'date made': 'Riley', 'warehouse': 'frank@email.com', 'gallery': '123-456-7890', 'author': 'New York', 'rack': 'a', 'status': 1},\n",
    "    {'name': 'Steve', 'date made': 'Brannigan', 'warehouse': 'steve@example.fr', 'gallery': '123-456-1290', 'author': 'California', 'rack': 'a', 'status': 0},\n",
    "    {'name': 'Marie', 'date made': 'Ambrose', 'warehouse': 'marie@yahoo.org', 'gallery': '123-976-7890', 'author': 'Texas', 'rack': 'a', 'status': 1}\n",
    "]\n",
    "wh = '62868707'\n",
    "for a in arts:\n",
    "    a['id'] = getArtId()\n",
    "    a['wh'] = Warehouse.objects.get(urlCode = wh)\n",
    "    a['date made'] = timezone.now()\n",
    "    a['urlCode'] = getArtCode()\n",
    "    # warning to have duplicate urlCode here,\n",
    "\n",
    "batch_size = 100\n",
    "try :\n",
    "    objs = []\n",
    "    for a in arts:\n",
    "        p = {}\n",
    "        p_h = [\n",
    "            ['name'],\n",
    "            ['urlCode'],\n",
    "            ['id'],\n",
    "            ['date_made','date made'],\n",
    "            ['date_add','date add'],\n",
    "            ['warehouse','wh'],\n",
    "            ['last_transit', 'last transit'],\n",
    "            ['rack'],\n",
    "            ['type'],\n",
    "            ['author'],\n",
    "            ['status']\n",
    "        ]\n",
    "        for h in p_h:\n",
    "            if a.get(h[-1]) is not None:\n",
    "                p[h[0]] = a.get(h[-1])\n",
    "        objs.append(Art(**p))\n",
    "    objs = (o for o in objs)\n",
    "    while True:\n",
    "        batch = list(islice(objs, batch_size))\n",
    "        if not batch:\n",
    "            break\n",
    "        print(objs)\n",
    "        print(batch)\n",
    "        print(len(batch))\n",
    "        \n",
    "        Art.objects.bulk_create(batch, batch_size)\n",
    "except KeyError:\n",
    "    raise KeyError"
   ]
  },
  {
   "cell_type": "code",
   "execution_count": null,
   "metadata": {},
   "outputs": [],
   "source": [
    "\n",
    "def checkGU(gId, un):\n",
    "    try:\n",
    "        g = Gallery.objects.get(galleryId = gId)\n",
    "        u = User.objects.get(username = un)\n",
    "        return GU_Relation.objects.filter(gallery = g, staff_member = u).exists()\n",
    "    except ObjectDoesNotExist:\n",
    "        return False\n",
    "\n",
    "checkGU('9SDB2VDJ5P','wxy')"
   ]
  },
  {
   "cell_type": "code",
   "execution_count": null,
   "metadata": {},
   "outputs": [],
   "source": [
    "#中文\n",
    "#chr(random.randint(0x4E00, 0x9FA5))"
   ]
  },
  {
   "cell_type": "code",
   "execution_count": null,
   "metadata": {},
   "outputs": [],
   "source": [
    "print('user ',User.objects.count())\n",
    "print('gallery ',Gallery.objects.count())\n",
    "print('Warehouse ',Warehouse.objects.count())\n",
    "print('GU_',GU_Relation.objects.count())\n",
    "print('WU_ ',WU_Relation.objects.count())\n",
    "print('Sum',GU_Relation_old.objects.count())\n",
    "print('art ',Art.objects.count())"
   ]
  },
  {
   "cell_type": "code",
   "execution_count": null,
   "metadata": {},
   "outputs": [],
   "source": []
  },
  {
   "cell_type": "code",
   "execution_count": null,
   "metadata": {},
   "outputs": [],
   "source": [
    "#get some art\n",
    "from django.db.models import F\n",
    "list(Art.objects.all()[:5].values('name', 'id', 'author', 'date_made', 'date_add', gly_name = F('wa_collection__gallery__name'), wh_name = F('wa_collection__warehouse__name'), rack = F('wa_collection__rack'), wa_status = F('wa_collection__status') ))"
   ]
  },
  {
   "cell_type": "code",
   "execution_count": null,
   "metadata": {},
   "outputs": [],
   "source": [
    "#generate User\n",
    "def generateUser(n):\n",
    "    for i in range(n):\n",
    "        u = User(username = randomId(10,0b111), password = '4b95459bbab668e960cf9c2cfc24506e7078bd89510abae298726bfe1a17f8c9')\n",
    "        u.save()\n"
   ]
  },
  {
   "cell_type": "code",
   "execution_count": null,
   "metadata": {},
   "outputs": [],
   "source": [
    "#generate Gallery & Warehouses & GU/WU_relations\n",
    "random_g_size = 15\n",
    "min_w = 30\n",
    "max_w = 50\n",
    "for i in range(random_g_size):\n",
    "    w_n = random.randint(min_w, max_w)\n",
    "    current_g = Gallery(warehouse_num = w_n, urlCode = getGalleryCode())\n",
    "    current_g.save()\n",
    "    g_id = current_g.id\n",
    "    users = pickUserId()\n",
    "    users_r2 = [users[number] for number in random.sample(range(1, len(users)), int(len(users)/6))]\n",
    "    users_r1 = [user for user in users if user not in users_r2]\n",
    "\n",
    "    #generate Warehouses\n",
    "    w_ids = []\n",
    "    for j in range(w_n):\n",
    "        aw = Warehouse(gallery = current_g, urlCode = getWarehouseCode())\n",
    "        aw.save()\n",
    "        w_ids.append(aw)\n",
    "    \n",
    "    print('u1', len(users_r1) , 'u2', len(users_r2))\n",
    "\n",
    "    for au in users_r1:\n",
    "        current_g.staff.add(au)\n",
    "        t1 = GU_Relation_old(gallery = current_g, staff_member = au, role = str(random.randint(0,3)))\n",
    "        t1.save()\n",
    "        \n",
    "    \n",
    "    for au in users_r2:\n",
    "        w_len = len(w_ids)\n",
    "        w_sample = random.sample(range(w_len), random.randint(1,w_len))\n",
    "        for wi in w_sample:\n",
    "            \n",
    "            guo = GU_Relation_old(gallery = current_g, staff_member = au, warehouse = w_ids[wi])\n",
    "            guo.save()\n",
    "            \n",
    "            guo2 = WU_Relation(staff_member = au, warehouse = w_ids[wi])\n",
    "            guo2.save()\n",
    "\n",
    "    print('gallery ', i+1 , 'generated')\n",
    "\n",
    "        \n",
    "\n",
    "\n"
   ]
  }
 ],
 "metadata": {
  "kernelspec": {
   "display_name": "webKernel",
   "language": "python",
   "name": "web"
  },
  "language_info": {
   "codemirror_mode": {
    "name": "ipython",
    "version": 3
   },
   "file_extension": ".py",
   "mimetype": "text/x-python",
   "name": "python",
   "nbconvert_exporter": "python",
   "pygments_lexer": "ipython3",
   "version": "3.8.12"
  }
 },
 "nbformat": 4,
 "nbformat_minor": 2
}
